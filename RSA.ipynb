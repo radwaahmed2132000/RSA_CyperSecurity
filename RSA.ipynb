{
 "cells": [
  {
   "cell_type": "code",
   "execution_count": 1,
   "id": "16858f9d",
   "metadata": {},
   "outputs": [],
   "source": [
    "import math\n",
    "import random\n",
    "import socket\n",
    "import numpy as np\n",
    "import sys\n",
    "from _thread import *\n",
    "import threading"
   ]
  },
  {
   "cell_type": "code",
   "execution_count": 2,
   "id": "0a0e2a90",
   "metadata": {},
   "outputs": [],
   "source": [
    "def checkvalidation(m):\n",
    "    if(m<=1):\n",
    "        return False\n",
    "    for i in range(2, int(np.sqrt(m)) + 1):\n",
    "        if (m % i == 0):\n",
    "            return False\n",
    "    return True"
   ]
  },
  {
   "cell_type": "code",
   "execution_count": 3,
   "id": "59fb590f",
   "metadata": {},
   "outputs": [],
   "source": [
    "def  readvalue():\n",
    "    p= int(input(\"Enter P\"))\n",
    "    q = int(input(\"Enter Q\"))\n",
    "    if(not checkvalidation(p)):\n",
    "        return False,p*q,(p-1)*(q-1)\n",
    "    if(not checkvalidation(q) ):\n",
    "        return False,p*q,(p-1)*(q-1)\n",
    "    return True,p*q,(p-1)*(q-1)"
   ]
  },
  {
   "cell_type": "code",
   "execution_count": 4,
   "id": "82871344",
   "metadata": {},
   "outputs": [],
   "source": [
    "def modularInverse(e, phi):\n",
    "    for i in range(1, phi):\n",
    "        if (((e%phi) * (i%phi)) % phi == 1):\n",
    "            return i\n",
    "    return -1"
   ]
  },
  {
   "cell_type": "code",
   "execution_count": 5,
   "id": "101ba968",
   "metadata": {},
   "outputs": [],
   "source": [
    "# check, n,phi =readvalue()\n",
    "# print(check,n,phi)"
   ]
  },
  {
   "cell_type": "code",
   "execution_count": 6,
   "id": "82e4ef24",
   "metadata": {},
   "outputs": [],
   "source": [
    "def keys(n,phi):\n",
    "    e=1\n",
    "    for i in range (2, phi):\n",
    "        if(np.gcd(i,phi)==1):\n",
    "            e=i\n",
    "            break\n",
    "    d=modularInverse(e,phi)\n",
    "    return e,d,n"
   ]
  },
  {
   "cell_type": "code",
   "execution_count": 7,
   "id": "f3a12d1e",
   "metadata": {},
   "outputs": [],
   "source": [
    "# e,d,n=keys(n,phi)\n",
    "# print(e,d,n)\n",
    "# print((e*d) % phi)"
   ]
  },
  {
   "cell_type": "code",
   "execution_count": 8,
   "id": "a6baba53",
   "metadata": {},
   "outputs": [],
   "source": [
    "def StringToInt(message):\n",
    "    ASCII = \"\"\n",
    "    for character in message:\n",
    "        ASCII+=str(ord(character))\n",
    "    return int(ASCII)        "
   ]
  },
  {
   "cell_type": "code",
   "execution_count": 9,
   "id": "e8ffa58f",
   "metadata": {},
   "outputs": [],
   "source": [
    "def encrpyt(e,n):\n",
    "    message =input(\"Enter message\")\n",
    "    print(e,n)\n",
    "    M = StringToInt(message)\n",
    "    if(M>n):\n",
    "        return \"Invalid Message\" ### it can be changed to take blocks of message\n",
    "    C =0\n",
    "    C =int(np.power(M,e)) %n  \n",
    "    return C"
   ]
  },
  {
   "cell_type": "code",
   "execution_count": 10,
   "id": "31155795",
   "metadata": {},
   "outputs": [],
   "source": [
    "# C=encrpyt(e,n)\n",
    "# print(C)\n"
   ]
  },
  {
   "cell_type": "code",
   "execution_count": 11,
   "id": "302904aa",
   "metadata": {},
   "outputs": [],
   "source": [
    "def decrypt(C,d,n):\n",
    "    M =0\n",
    "    print(d,n)\n",
    "   \n",
    "    # M=int(np.power(i,d))%n\n",
    "    message =\"\"        \n",
    "#     for i in M:\n",
    "#         message+=chr((i))\n",
    "    print(M)\n",
    "    print(message)\n",
    "    "
   ]
  },
  {
   "cell_type": "code",
   "execution_count": 12,
   "id": "2af89270",
   "metadata": {},
   "outputs": [],
   "source": [
    "def BruteForceAttack(e,n):\n",
    "    q=0\n",
    "    p=0\n",
    "    for i in range (2, n):\n",
    "            if(n%i==0):\n",
    "                check = False\n",
    "                for j in range(2,i):\n",
    "                    if(i%j==0):\n",
    "                        check =True\n",
    "                        break\n",
    "                if(not check):\n",
    "                    p = i\n",
    "                    q = n/i\n",
    "                    break\n",
    "    phi = int( (p-1)*(q-1))\n",
    "    d= modularInverse(e,phi)\n",
    "    return d\n",
    "    \n",
    "    "
   ]
  },
  {
   "cell_type": "code",
   "execution_count": 13,
   "id": "4317dd9a",
   "metadata": {},
   "outputs": [
    {
     "data": {
      "text/plain": [
       "2758637"
      ]
     },
     "execution_count": 13,
     "metadata": {},
     "output_type": "execute_result"
    }
   ],
   "source": [
    "BruteForceAttack(5,3452027 )"
   ]
  },
  {
   "cell_type": "code",
   "execution_count": 14,
   "id": "008a6f5e",
   "metadata": {},
   "outputs": [],
   "source": [
    "def ChosenCipherTextAttack(a,b):\n",
    "    a = max(a,b)\n",
    "    b= min(a,b)\n",
    "    r=[]\n",
    "    r.append(a)\n",
    "    r.append(b)\n",
    "    x=[]\n",
    "    x.append(1)\n",
    "    x.append(0)\n",
    "    y=[]\n",
    "    y.append(0)\n",
    "    y.append(1)\n",
    "    rn = a\n",
    "    while(rn !=0):\n",
    "        rn= r[-2] % r[-1]\n",
    "        qn = math.floor(r[-2]/r[-1])\n",
    "        x.append(x[-2]-qn*x[-1])\n",
    "        y.append(y[-2]-qn*y[-1])\n",
    "        r.append(rn)   \n",
    "    return y[-2]\n",
    "    "
   ]
  },
  {
   "cell_type": "code",
   "execution_count": 15,
   "id": "16fcad94",
   "metadata": {},
   "outputs": [],
   "source": [
    "# y=ChosenCipherTextAttack(1759,550)\n",
    "# print(y)"
   ]
  },
  {
   "cell_type": "code",
   "execution_count": 16,
   "id": "b3de6223",
   "metadata": {},
   "outputs": [],
   "source": [
    "# decrypt(C,d,n)"
   ]
  },
  {
   "cell_type": "code",
   "execution_count": 17,
   "id": "7e26e014",
   "metadata": {},
   "outputs": [],
   "source": [
    "print_lock = threading.Lock()\n",
    "n=-1\n",
    "e =-1"
   ]
  },
  {
   "cell_type": "code",
   "execution_count": 18,
   "id": "9877ec66",
   "metadata": {},
   "outputs": [],
   "source": [
    "n=-1\n",
    "e=-1\n",
    "def threaded(c):\n",
    "    while True:\n",
    "        global n\n",
    "        global e\n",
    "        data = None\n",
    "        if n==-1 and e==-1:\n",
    "            data = c.recv(1024)\n",
    "            n= int(data)\n",
    "        if n!=-1  and e==-1:\n",
    "            data = c.recv(1024)\n",
    "            e= int(data)\n",
    "        if n!=-1 and e!=-1:\n",
    "            ciper=encrpyt(e,n)\n",
    "            print(\"n\",n)\n",
    "            print(\"e\",e)\n",
    "            print(\"ciper\",ciper)\n",
    "            c.send(str(ciper).encode())\n",
    "          \n",
    "        # c.close()\n",
    "    return e,n\n"
   ]
  },
  {
   "cell_type": "code",
   "execution_count": 19,
   "id": "0d1b91ea",
   "metadata": {},
   "outputs": [],
   "source": [
    "# # thread function\n",
    "# n=-1\n",
    "# e =-1 \n",
    "# def threaded(c):\n",
    "# \twhile True:\n",
    "\n",
    "# \t\tglobal n \n",
    "# \t\tglobal e \n",
    "# \t\tdata = None\n",
    "#         if n==-1 and e==-1:\n",
    "# \t\t\t# data received from client\n",
    "# \t\t\tdata = c.recv(1024)\n",
    "# \t\t\tn = int(data)\n",
    "#         if n!=-1 and e==-1:\n",
    "# \t\t\t# data received from client\n",
    "# \t\t\tdata = c.recv(1024)\n",
    "# \t\t\tn = int(data)\t\t\t\n",
    "# \t\tif n !=-1 and e !=-1:\n",
    "# \t\t\tciper=encrpyt(e,n)\n",
    "# \t\t\tprint(ciper,n,e)\n",
    "# \t\t\tc.send(ciper.encode())\n",
    "# \t\tif not data:\n",
    "# \t\t\tprint('Bye')\n",
    "\t\t\t\n",
    "# \t\t\t# lock released on exit\n",
    "# \t\t\tprint_lock.release()\n",
    "# \t\t\tbreak\n",
    "\n",
    "# \t\t# reverse the given string from client\n",
    "# \t\t# data = data[::-1]\n",
    "    \n",
    "\n",
    "# \t\t# send back reversed string to client\n",
    "# \t\t#c.send(data)\n",
    "\n",
    "# \t# connection closed\n",
    "# \tc.close()\n",
    "# \treturn e,n\n",
    "\t"
   ]
  },
  {
   "cell_type": "code",
   "execution_count": 20,
   "id": "f5a64a48",
   "metadata": {},
   "outputs": [
    {
     "name": "stdout",
     "output_type": "stream",
     "text": [
      "socket binded to port 12345\n",
      "socket is listening\n",
      "Connected to : 127.0.0.1 : 50589\n",
      "7 2331713\n",
      "n 2331713\n",
      "e 7\n",
      "ciper 1029042\n",
      "7 2331713\n",
      "n 2331713\n",
      "e 7\n",
      "ciper 1029042\n",
      "7 2331713\n",
      "n 2331713\n",
      "e 7\n",
      "ciper 902010\n",
      "7 2331713\n",
      "n 2331713\n",
      "e 7\n",
      "ciper 2145762\n"
     ]
    },
    {
     "ename": "KeyboardInterrupt",
     "evalue": "Interrupted by user",
     "output_type": "error",
     "traceback": [
      "\u001b[1;31m---------------------------------------------------------------------------\u001b[0m",
      "\u001b[1;31mKeyboardInterrupt\u001b[0m                         Traceback (most recent call last)",
      "\u001b[1;32m~\\AppData\\Local\\Temp/ipykernel_9484/2403506049.py\u001b[0m in \u001b[0;36m<module>\u001b[1;34m\u001b[0m\n\u001b[0;32m     23\u001b[0m \u001b[1;33m\u001b[0m\u001b[0m\n\u001b[0;32m     24\u001b[0m                 \u001b[1;31m# Start a new thread and return its identifier\u001b[0m\u001b[1;33m\u001b[0m\u001b[1;33m\u001b[0m\u001b[0m\n\u001b[1;32m---> 25\u001b[1;33m                 \u001b[0mstart_new_thread\u001b[0m\u001b[1;33m(\u001b[0m\u001b[0mthreaded\u001b[0m \u001b[1;33m(\u001b[0m\u001b[0mc\u001b[0m\u001b[1;33m)\u001b[0m\u001b[1;33m)\u001b[0m\u001b[1;33m\u001b[0m\u001b[1;33m\u001b[0m\u001b[0m\n\u001b[0m\u001b[0;32m     26\u001b[0m \u001b[0ms\u001b[0m\u001b[1;33m.\u001b[0m\u001b[0mclose\u001b[0m\u001b[1;33m(\u001b[0m\u001b[1;33m)\u001b[0m\u001b[1;33m\u001b[0m\u001b[1;33m\u001b[0m\u001b[0m\n\u001b[0;32m     27\u001b[0m \u001b[1;33m\u001b[0m\u001b[0m\n",
      "\u001b[1;32m~\\AppData\\Local\\Temp/ipykernel_9484/1217096731.py\u001b[0m in \u001b[0;36mthreaded\u001b[1;34m(c)\u001b[0m\n\u001b[0;32m     13\u001b[0m             \u001b[0me\u001b[0m\u001b[1;33m=\u001b[0m \u001b[0mint\u001b[0m\u001b[1;33m(\u001b[0m\u001b[0mdata\u001b[0m\u001b[1;33m)\u001b[0m\u001b[1;33m\u001b[0m\u001b[1;33m\u001b[0m\u001b[0m\n\u001b[0;32m     14\u001b[0m         \u001b[1;32mif\u001b[0m \u001b[0mn\u001b[0m\u001b[1;33m!=\u001b[0m\u001b[1;33m-\u001b[0m\u001b[1;36m1\u001b[0m \u001b[1;32mand\u001b[0m \u001b[0me\u001b[0m\u001b[1;33m!=\u001b[0m\u001b[1;33m-\u001b[0m\u001b[1;36m1\u001b[0m\u001b[1;33m:\u001b[0m\u001b[1;33m\u001b[0m\u001b[1;33m\u001b[0m\u001b[0m\n\u001b[1;32m---> 15\u001b[1;33m             \u001b[0mciper\u001b[0m\u001b[1;33m=\u001b[0m\u001b[0mencrpyt\u001b[0m\u001b[1;33m(\u001b[0m\u001b[0me\u001b[0m\u001b[1;33m,\u001b[0m\u001b[0mn\u001b[0m\u001b[1;33m)\u001b[0m\u001b[1;33m\u001b[0m\u001b[1;33m\u001b[0m\u001b[0m\n\u001b[0m\u001b[0;32m     16\u001b[0m             \u001b[0mprint\u001b[0m\u001b[1;33m(\u001b[0m\u001b[1;34m\"n\"\u001b[0m\u001b[1;33m,\u001b[0m\u001b[0mn\u001b[0m\u001b[1;33m)\u001b[0m\u001b[1;33m\u001b[0m\u001b[1;33m\u001b[0m\u001b[0m\n\u001b[0;32m     17\u001b[0m             \u001b[0mprint\u001b[0m\u001b[1;33m(\u001b[0m\u001b[1;34m\"e\"\u001b[0m\u001b[1;33m,\u001b[0m\u001b[0me\u001b[0m\u001b[1;33m)\u001b[0m\u001b[1;33m\u001b[0m\u001b[1;33m\u001b[0m\u001b[0m\n",
      "\u001b[1;32m~\\AppData\\Local\\Temp/ipykernel_9484/3045508656.py\u001b[0m in \u001b[0;36mencrpyt\u001b[1;34m(e, n)\u001b[0m\n\u001b[0;32m      1\u001b[0m \u001b[1;32mdef\u001b[0m \u001b[0mencrpyt\u001b[0m\u001b[1;33m(\u001b[0m\u001b[0me\u001b[0m\u001b[1;33m,\u001b[0m\u001b[0mn\u001b[0m\u001b[1;33m)\u001b[0m\u001b[1;33m:\u001b[0m\u001b[1;33m\u001b[0m\u001b[1;33m\u001b[0m\u001b[0m\n\u001b[1;32m----> 2\u001b[1;33m     \u001b[0mmessage\u001b[0m \u001b[1;33m=\u001b[0m\u001b[0minput\u001b[0m\u001b[1;33m(\u001b[0m\u001b[1;34m\"Enter message\"\u001b[0m\u001b[1;33m)\u001b[0m\u001b[1;33m\u001b[0m\u001b[1;33m\u001b[0m\u001b[0m\n\u001b[0m\u001b[0;32m      3\u001b[0m     \u001b[0mprint\u001b[0m\u001b[1;33m(\u001b[0m\u001b[0me\u001b[0m\u001b[1;33m,\u001b[0m\u001b[0mn\u001b[0m\u001b[1;33m)\u001b[0m\u001b[1;33m\u001b[0m\u001b[1;33m\u001b[0m\u001b[0m\n\u001b[0;32m      4\u001b[0m     \u001b[0mM\u001b[0m \u001b[1;33m=\u001b[0m \u001b[0mStringToInt\u001b[0m\u001b[1;33m(\u001b[0m\u001b[0mmessage\u001b[0m\u001b[1;33m)\u001b[0m\u001b[1;33m\u001b[0m\u001b[1;33m\u001b[0m\u001b[0m\n\u001b[0;32m      5\u001b[0m     \u001b[1;32mif\u001b[0m\u001b[1;33m(\u001b[0m\u001b[0mM\u001b[0m\u001b[1;33m>\u001b[0m\u001b[0mn\u001b[0m\u001b[1;33m)\u001b[0m\u001b[1;33m:\u001b[0m\u001b[1;33m\u001b[0m\u001b[1;33m\u001b[0m\u001b[0m\n",
      "\u001b[1;32mc:\\Python310\\lib\\site-packages\\ipykernel\\kernelbase.py\u001b[0m in \u001b[0;36mraw_input\u001b[1;34m(self, prompt)\u001b[0m\n\u001b[0;32m   1005\u001b[0m                 \u001b[1;34m\"raw_input was called, but this frontend does not support input requests.\"\u001b[0m\u001b[1;33m\u001b[0m\u001b[1;33m\u001b[0m\u001b[0m\n\u001b[0;32m   1006\u001b[0m             )\n\u001b[1;32m-> 1007\u001b[1;33m         return self._input_request(\n\u001b[0m\u001b[0;32m   1008\u001b[0m             \u001b[0mstr\u001b[0m\u001b[1;33m(\u001b[0m\u001b[0mprompt\u001b[0m\u001b[1;33m)\u001b[0m\u001b[1;33m,\u001b[0m\u001b[1;33m\u001b[0m\u001b[1;33m\u001b[0m\u001b[0m\n\u001b[0;32m   1009\u001b[0m             \u001b[0mself\u001b[0m\u001b[1;33m.\u001b[0m\u001b[0m_parent_ident\u001b[0m\u001b[1;33m[\u001b[0m\u001b[1;34m\"shell\"\u001b[0m\u001b[1;33m]\u001b[0m\u001b[1;33m,\u001b[0m\u001b[1;33m\u001b[0m\u001b[1;33m\u001b[0m\u001b[0m\n",
      "\u001b[1;32mc:\\Python310\\lib\\site-packages\\ipykernel\\kernelbase.py\u001b[0m in \u001b[0;36m_input_request\u001b[1;34m(self, prompt, ident, parent, password)\u001b[0m\n\u001b[0;32m   1050\u001b[0m             \u001b[1;32mexcept\u001b[0m \u001b[0mKeyboardInterrupt\u001b[0m\u001b[1;33m:\u001b[0m\u001b[1;33m\u001b[0m\u001b[1;33m\u001b[0m\u001b[0m\n\u001b[0;32m   1051\u001b[0m                 \u001b[1;31m# re-raise KeyboardInterrupt, to truncate traceback\u001b[0m\u001b[1;33m\u001b[0m\u001b[1;33m\u001b[0m\u001b[0m\n\u001b[1;32m-> 1052\u001b[1;33m                 \u001b[1;32mraise\u001b[0m \u001b[0mKeyboardInterrupt\u001b[0m\u001b[1;33m(\u001b[0m\u001b[1;34m\"Interrupted by user\"\u001b[0m\u001b[1;33m)\u001b[0m \u001b[1;32mfrom\u001b[0m \u001b[1;32mNone\u001b[0m\u001b[1;33m\u001b[0m\u001b[1;33m\u001b[0m\u001b[0m\n\u001b[0m\u001b[0;32m   1053\u001b[0m             \u001b[1;32mexcept\u001b[0m \u001b[0mException\u001b[0m\u001b[1;33m:\u001b[0m\u001b[1;33m\u001b[0m\u001b[1;33m\u001b[0m\u001b[0m\n\u001b[0;32m   1054\u001b[0m                 \u001b[0mself\u001b[0m\u001b[1;33m.\u001b[0m\u001b[0mlog\u001b[0m\u001b[1;33m.\u001b[0m\u001b[0mwarning\u001b[0m\u001b[1;33m(\u001b[0m\u001b[1;34m\"Invalid Message:\"\u001b[0m\u001b[1;33m,\u001b[0m \u001b[0mexc_info\u001b[0m\u001b[1;33m=\u001b[0m\u001b[1;32mTrue\u001b[0m\u001b[1;33m)\u001b[0m\u001b[1;33m\u001b[0m\u001b[1;33m\u001b[0m\u001b[0m\n",
      "\u001b[1;31mKeyboardInterrupt\u001b[0m: Interrupted by user"
     ]
    }
   ],
   "source": [
    "\n",
    "host = \"\"\n",
    "\t# reverse a port on your computer\n",
    "\t# in our case it is 12345 but it\n",
    "\t# can be anything\n",
    "port = 12345\n",
    "s = socket.socket(socket.AF_INET, socket.SOCK_STREAM)\n",
    "s.bind((host, port))\n",
    "print(\"socket binded to port\", port)\n",
    "\n",
    "\t# put the socket into listening mode\n",
    "s.listen(5)\n",
    "print(\"socket is listening\")\n",
    "\n",
    "\t# a forever loop until client wants to exit\n",
    "while True:\n",
    "\n",
    "\t\t# establish connection with client\n",
    "\t\tc, addr = s.accept()\n",
    "\n",
    "\t\t# lock acquired by client\n",
    "\t\tprint_lock.acquire()\n",
    "\t\tprint('Connected to :', addr[0], ':', addr[1])\n",
    "\n",
    "\t\t# Start a new thread and return its identifier\n",
    "\t\tstart_new_thread(threaded (c))\n",
    "s.close()\n",
    "\n",
    "\n",
    "\n"
   ]
  }
 ],
 "metadata": {
  "interpreter": {
   "hash": "369f2c481f4da34e4445cda3fffd2e751bd1c4d706f27375911949ba6bb62e1c"
  },
  "kernelspec": {
   "display_name": "Python 3.10.0 64-bit",
   "language": "python",
   "name": "python3"
  },
  "language_info": {
   "codemirror_mode": {
    "name": "ipython",
    "version": 3
   },
   "file_extension": ".py",
   "mimetype": "text/x-python",
   "name": "python",
   "nbconvert_exporter": "python",
   "pygments_lexer": "ipython3",
   "version": "3.10.0"
  }
 },
 "nbformat": 4,
 "nbformat_minor": 5
}
