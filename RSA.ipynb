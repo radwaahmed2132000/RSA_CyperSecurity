{
 "cells": [
  {
   "cell_type": "code",
   "execution_count": 1,
   "id": "16858f9d",
   "metadata": {},
   "outputs": [
    {
     "data": {
      "text/plain": [
       "134217728"
      ]
     },
     "execution_count": 1,
     "metadata": {},
     "output_type": "execute_result"
    }
   ],
   "source": [
    "import math\n",
    "import random\n",
    "import socket\n",
    "import numpy as np\n",
    "import sys\n",
    "from _thread import *\n",
    "import threading\n",
    "from utils import *\n",
    "sys.setrecursionlimit(10**7)\n",
    "threading.stack_size(2**27)"
   ]
  },
  {
   "cell_type": "code",
   "execution_count": 2,
   "id": "4317dd9a",
   "metadata": {},
   "outputs": [
    {
     "data": {
      "text/plain": [
       "2758637"
      ]
     },
     "execution_count": 2,
     "metadata": {},
     "output_type": "execute_result"
    }
   ],
   "source": [
    "BruteForceAttack(5,3452027 )"
   ]
  },
  {
   "cell_type": "code",
   "execution_count": 3,
   "id": "7e26e014",
   "metadata": {},
   "outputs": [],
   "source": [
    "print_lock = threading.Lock()\n",
    "n=-1\n",
    "e =-1"
   ]
  },
  {
   "cell_type": "code",
   "execution_count": 4,
   "id": "9877ec66",
   "metadata": {},
   "outputs": [],
   "source": [
    "n=-1\n",
    "e=-1\n",
    "def threaded(c):\n",
    "    while True:\n",
    "        global n\n",
    "        global e\n",
    "        data = None\n",
    "        if n==-1 and e==-1:\n",
    "            print('Not n and e')\n",
    "            data = c.recv(2**30)\n",
    "            n= int(data)\n",
    "        if n!=-1  and e==-1:\n",
    "            print('Not e')\n",
    "            data = c.recv(2**30)\n",
    "            e= int(data)\n",
    "        if n!=-1 and e!=-1:\n",
    "            print('Entered!!!!')\n",
    "            ciper=Encrypt(e,n)\n",
    "            print(\"n\",n)\n",
    "            print(\"e\",e)\n",
    "            print(\"Ciper: \",ciper)\n",
    "            c.send(str(ciper).encode())\n",
    "          \n",
    "        # c.close()\n",
    "    return e,n\n"
   ]
  },
  {
   "cell_type": "code",
   "execution_count": 5,
   "id": "f5a64a48",
   "metadata": {},
   "outputs": [
    {
     "name": "stdout",
     "output_type": "stream",
     "text": [
      "socket binded to port 12340\n",
      "socket is listening\n",
      "Connected to : 127.0.0.1 : 63446\n",
      "Not n and e\n",
      "Not e\n",
      "Entered!!!!\n",
      "5 1000000016000000063\n",
      "n 1000000016000000063\n",
      "e 5\n",
      "Ciper:  270870318663650788\n",
      "Entered!!!!\n",
      "5 1000000016000000063\n",
      "n 1000000016000000063\n",
      "e 5\n",
      "Ciper:  774134857531336117\n",
      "Entered!!!!\n",
      "5 1000000016000000063\n",
      "n 1000000016000000063\n",
      "e 5\n",
      "Ciper:  905766129660458606\n",
      "Entered!!!!\n",
      "5 1000000016000000063\n",
      "n 1000000016000000063\n",
      "e 5\n",
      "Ciper:  0\n"
     ]
    },
    {
     "ename": "ConnectionResetError",
     "evalue": "[WinError 10054] An existing connection was forcibly closed by the remote host",
     "output_type": "error",
     "traceback": [
      "\u001b[1;31m---------------------------------------------------------------------------\u001b[0m",
      "\u001b[1;31mConnectionResetError\u001b[0m                      Traceback (most recent call last)",
      "\u001b[1;32m~\\AppData\\Local\\Temp/ipykernel_13404/3106492069.py\u001b[0m in \u001b[0;36m<module>\u001b[1;34m\u001b[0m\n\u001b[0;32m     26\u001b[0m \u001b[1;33m\u001b[0m\u001b[0m\n\u001b[0;32m     27\u001b[0m                 \u001b[1;31m# Start a new thread and return its identifier\u001b[0m\u001b[1;33m\u001b[0m\u001b[1;33m\u001b[0m\u001b[0m\n\u001b[1;32m---> 28\u001b[1;33m                 \u001b[0mstart_new_thread\u001b[0m\u001b[1;33m(\u001b[0m\u001b[0mthreaded\u001b[0m \u001b[1;33m(\u001b[0m\u001b[0mc\u001b[0m\u001b[1;33m)\u001b[0m\u001b[1;33m)\u001b[0m\u001b[1;33m\u001b[0m\u001b[1;33m\u001b[0m\u001b[0m\n\u001b[0m\u001b[0;32m     29\u001b[0m \u001b[0ms\u001b[0m\u001b[1;33m.\u001b[0m\u001b[0mclose\u001b[0m\u001b[1;33m(\u001b[0m\u001b[1;33m)\u001b[0m\u001b[1;33m\u001b[0m\u001b[1;33m\u001b[0m\u001b[0m\n",
      "\u001b[1;32m~\\AppData\\Local\\Temp/ipykernel_13404/203172805.py\u001b[0m in \u001b[0;36mthreaded\u001b[1;34m(c)\u001b[0m\n\u001b[0;32m     20\u001b[0m             \u001b[0mprint\u001b[0m\u001b[1;33m(\u001b[0m\u001b[1;34m\"e\"\u001b[0m\u001b[1;33m,\u001b[0m\u001b[0me\u001b[0m\u001b[1;33m)\u001b[0m\u001b[1;33m\u001b[0m\u001b[1;33m\u001b[0m\u001b[0m\n\u001b[0;32m     21\u001b[0m             \u001b[0mprint\u001b[0m\u001b[1;33m(\u001b[0m\u001b[1;34m\"Ciper: \"\u001b[0m\u001b[1;33m,\u001b[0m\u001b[0mciper\u001b[0m\u001b[1;33m)\u001b[0m\u001b[1;33m\u001b[0m\u001b[1;33m\u001b[0m\u001b[0m\n\u001b[1;32m---> 22\u001b[1;33m             \u001b[0mc\u001b[0m\u001b[1;33m.\u001b[0m\u001b[0msend\u001b[0m\u001b[1;33m(\u001b[0m\u001b[0mstr\u001b[0m\u001b[1;33m(\u001b[0m\u001b[0mciper\u001b[0m\u001b[1;33m)\u001b[0m\u001b[1;33m.\u001b[0m\u001b[0mencode\u001b[0m\u001b[1;33m(\u001b[0m\u001b[1;33m)\u001b[0m\u001b[1;33m)\u001b[0m\u001b[1;33m\u001b[0m\u001b[1;33m\u001b[0m\u001b[0m\n\u001b[0m\u001b[0;32m     23\u001b[0m \u001b[1;33m\u001b[0m\u001b[0m\n\u001b[0;32m     24\u001b[0m         \u001b[1;31m# c.close()\u001b[0m\u001b[1;33m\u001b[0m\u001b[1;33m\u001b[0m\u001b[0m\n",
      "\u001b[1;31mConnectionResetError\u001b[0m: [WinError 10054] An existing connection was forcibly closed by the remote host"
     ]
    }
   ],
   "source": [
    "\n",
    "host = \"\"\n",
    "\t# reverse a port on your computer\n",
    "\t# in our case it is 12345 but it\n",
    "\t# can be anything\n",
    "port = 12340\n",
    "# port = 12345\n",
    "s = socket.socket(socket.AF_INET, socket.SOCK_STREAM)\n",
    "s.setsockopt(socket.SOL_SOCKET, socket.SO_SNDBUF, 2**30)  \n",
    "s.bind((host, port))\n",
    "print(\"socket binded to port\", port)\n",
    "\n",
    "\t# put the socket into listening mode\n",
    "s.listen(5)\n",
    "print(\"socket is listening\")\n",
    "\n",
    "\n",
    "\t# a forever loop until client wants to exit\n",
    "while True:\n",
    "\n",
    "\t\t# establish connection with client\n",
    "\t\tc, addr = s.accept()\n",
    "\n",
    "\t\t# lock acquired by client\n",
    "\t\tprint_lock.acquire()\n",
    "\t\tprint('Connected to :', addr[0], ':', addr[1])\n",
    "\n",
    "\t\t# Start a new thread and return its identifier\n",
    "\t\tstart_new_thread(threaded (c))\n",
    "s.close()"
   ]
  },
  {
   "cell_type": "code",
   "execution_count": null,
   "id": "389713b9",
   "metadata": {},
   "outputs": [],
   "source": []
  }
 ],
 "metadata": {
  "interpreter": {
   "hash": "369f2c481f4da34e4445cda3fffd2e751bd1c4d706f27375911949ba6bb62e1c"
  },
  "kernelspec": {
   "display_name": "Python 3.10.0 64-bit",
   "language": "python",
   "name": "python3"
  },
  "language_info": {
   "codemirror_mode": {
    "name": "ipython",
    "version": 3
   },
   "file_extension": ".py",
   "mimetype": "text/x-python",
   "name": "python",
   "nbconvert_exporter": "python",
   "pygments_lexer": "ipython3",
   "version": "3.10.0"
  }
 },
 "nbformat": 4,
 "nbformat_minor": 5
}
