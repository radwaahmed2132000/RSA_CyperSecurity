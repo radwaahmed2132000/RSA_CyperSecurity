{
 "cells": [
  {
   "cell_type": "code",
   "execution_count": 1,
   "id": "16858f9d",
   "metadata": {},
   "outputs": [],
   "source": [
    "import math\n",
    "import random\n",
    "import socket\n",
    "import numpy as np"
   ]
  },
  {
   "cell_type": "code",
   "execution_count": 2,
   "id": "0a0e2a90",
   "metadata": {},
   "outputs": [],
   "source": [
    "def checkvalidation(m):\n",
    "    if(m<=1):\n",
    "        return False\n",
    "    for i in range(2, int(np.sqrt(m)) + 1):\n",
    "        if (m % i == 0):\n",
    "            return False\n",
    "    return True"
   ]
  },
  {
   "cell_type": "code",
   "execution_count": 3,
   "id": "59fb590f",
   "metadata": {},
   "outputs": [],
   "source": [
    "def  readvalue():\n",
    "    p= int(input(\"Enter P\"))\n",
    "    q = int(input(\"Enter Q\"))\n",
    "    if(not checkvalidation(p)):\n",
    "        return False,p*q,(p-1)*(q-1)\n",
    "    if(not checkvalidation(q) ):\n",
    "        return False,p*q,(p-1)*(q-1)\n",
    "    return True,p*q,(p-1)*(q-1)"
   ]
  },
  {
   "cell_type": "code",
   "execution_count": 4,
   "id": "82871344",
   "metadata": {},
   "outputs": [],
   "source": [
    "def modularInverse(e, phi):\n",
    "    for i in range(1, phi):\n",
    "        if (((e%phi) * (i%phi)) % phi == 1):\n",
    "            return i\n",
    "    return -1"
   ]
  },
  {
   "cell_type": "code",
   "execution_count": 5,
   "id": "101ba968",
   "metadata": {},
   "outputs": [
    {
     "ename": "ValueError",
     "evalue": "invalid literal for int() with base 10: 'kk'",
     "output_type": "error",
     "traceback": [
      "\u001b[1;31m---------------------------------------------------------------------------\u001b[0m",
      "\u001b[1;31mValueError\u001b[0m                                Traceback (most recent call last)",
      "\u001b[1;32m~\\AppData\\Local\\Temp/ipykernel_8068/1753566343.py\u001b[0m in \u001b[0;36m<module>\u001b[1;34m\u001b[0m\n\u001b[1;32m----> 1\u001b[1;33m \u001b[0mcheck\u001b[0m\u001b[1;33m,\u001b[0m \u001b[0mn\u001b[0m\u001b[1;33m,\u001b[0m\u001b[0mphi\u001b[0m \u001b[1;33m=\u001b[0m\u001b[0mreadvalue\u001b[0m\u001b[1;33m(\u001b[0m\u001b[1;33m)\u001b[0m\u001b[1;33m\u001b[0m\u001b[1;33m\u001b[0m\u001b[0m\n\u001b[0m\u001b[0;32m      2\u001b[0m \u001b[0mprint\u001b[0m\u001b[1;33m(\u001b[0m\u001b[0mcheck\u001b[0m\u001b[1;33m,\u001b[0m\u001b[0mn\u001b[0m\u001b[1;33m,\u001b[0m\u001b[0mphi\u001b[0m\u001b[1;33m)\u001b[0m\u001b[1;33m\u001b[0m\u001b[1;33m\u001b[0m\u001b[0m\n",
      "\u001b[1;32m~\\AppData\\Local\\Temp/ipykernel_8068/66666382.py\u001b[0m in \u001b[0;36mreadvalue\u001b[1;34m()\u001b[0m\n\u001b[0;32m      1\u001b[0m \u001b[1;32mdef\u001b[0m  \u001b[0mreadvalue\u001b[0m\u001b[1;33m(\u001b[0m\u001b[1;33m)\u001b[0m\u001b[1;33m:\u001b[0m\u001b[1;33m\u001b[0m\u001b[1;33m\u001b[0m\u001b[0m\n\u001b[1;32m----> 2\u001b[1;33m     \u001b[0mp\u001b[0m\u001b[1;33m=\u001b[0m \u001b[0mint\u001b[0m\u001b[1;33m(\u001b[0m\u001b[0minput\u001b[0m\u001b[1;33m(\u001b[0m\u001b[1;34m\"Enter P\"\u001b[0m\u001b[1;33m)\u001b[0m\u001b[1;33m)\u001b[0m\u001b[1;33m\u001b[0m\u001b[1;33m\u001b[0m\u001b[0m\n\u001b[0m\u001b[0;32m      3\u001b[0m     \u001b[0mq\u001b[0m \u001b[1;33m=\u001b[0m \u001b[0mint\u001b[0m\u001b[1;33m(\u001b[0m\u001b[0minput\u001b[0m\u001b[1;33m(\u001b[0m\u001b[1;34m\"Enter Q\"\u001b[0m\u001b[1;33m)\u001b[0m\u001b[1;33m)\u001b[0m\u001b[1;33m\u001b[0m\u001b[1;33m\u001b[0m\u001b[0m\n\u001b[0;32m      4\u001b[0m     \u001b[1;32mif\u001b[0m\u001b[1;33m(\u001b[0m\u001b[1;32mnot\u001b[0m \u001b[0mcheckvalidation\u001b[0m\u001b[1;33m(\u001b[0m\u001b[0mp\u001b[0m\u001b[1;33m)\u001b[0m\u001b[1;33m)\u001b[0m\u001b[1;33m:\u001b[0m\u001b[1;33m\u001b[0m\u001b[1;33m\u001b[0m\u001b[0m\n\u001b[0;32m      5\u001b[0m         \u001b[1;32mreturn\u001b[0m \u001b[1;32mFalse\u001b[0m\u001b[1;33m,\u001b[0m\u001b[0mp\u001b[0m\u001b[1;33m*\u001b[0m\u001b[0mq\u001b[0m\u001b[1;33m,\u001b[0m\u001b[1;33m(\u001b[0m\u001b[0mp\u001b[0m\u001b[1;33m-\u001b[0m\u001b[1;36m1\u001b[0m\u001b[1;33m)\u001b[0m\u001b[1;33m*\u001b[0m\u001b[1;33m(\u001b[0m\u001b[0mq\u001b[0m\u001b[1;33m-\u001b[0m\u001b[1;36m1\u001b[0m\u001b[1;33m)\u001b[0m\u001b[1;33m\u001b[0m\u001b[1;33m\u001b[0m\u001b[0m\n",
      "\u001b[1;31mValueError\u001b[0m: invalid literal for int() with base 10: 'kk'"
     ]
    }
   ],
   "source": [
    "check, n,phi =readvalue()\n",
    "print(check,n,phi)"
   ]
  },
  {
   "cell_type": "code",
   "execution_count": 6,
   "id": "82e4ef24",
   "metadata": {},
   "outputs": [],
   "source": [
    "def keys(n,phi):\n",
    "    e=1\n",
    "    for i in range (2, phi):\n",
    "        if(np.gcd(i,phi)==1):\n",
    "            e=i\n",
    "            break\n",
    "    d=modularInverse(e,phi)\n",
    "    return e,d,n"
   ]
  },
  {
   "cell_type": "code",
   "execution_count": null,
   "id": "f3a12d1e",
   "metadata": {},
   "outputs": [],
   "source": [
    "e,d,n=keys(n,phi)\n",
    "print(e,d,n)\n",
    "print((e*d) % phi)"
   ]
  },
  {
   "cell_type": "code",
   "execution_count": 7,
   "id": "a6baba53",
   "metadata": {},
   "outputs": [],
   "source": [
    "def StringToInt(message):\n",
    "    ASCII = \"\"\n",
    "    for character in message:\n",
    "        ASCII+=str(ord(character))\n",
    "    return int(ASCII)        "
   ]
  },
  {
   "cell_type": "code",
   "execution_count": null,
   "id": "e8ffa58f",
   "metadata": {},
   "outputs": [],
   "source": [
    "def encrpyt(e,n):\n",
    "    message =input(\"Enter message\")\n",
    "    print(e,n)\n",
    "    M = StringToInt(message)\n",
    "    if(M>n):\n",
    "        return \"Invalid Message\" ### it can be changed to take blocks of message\n",
    "    C =0\n",
    "    C =int(np.power(M,e)) %n  \n",
    "    return C"
   ]
  },
  {
   "cell_type": "code",
   "execution_count": null,
   "id": "31155795",
   "metadata": {},
   "outputs": [],
   "source": [
    "C=encrpyt(e,n)\n",
    "print(C)\n"
   ]
  },
  {
   "cell_type": "code",
   "execution_count": null,
   "id": "302904aa",
   "metadata": {},
   "outputs": [],
   "source": [
    "def decrypt(C,d,n):\n",
    "    M =0\n",
    "    print(d,n)\n",
    "   \n",
    "    M=int(np.power(i,d))%n\n",
    "    message =\"\"        \n",
    "#     for i in M:\n",
    "#         message+=chr((i))\n",
    "    print(M)\n",
    "    print(message)\n",
    "    "
   ]
  },
  {
   "cell_type": "code",
   "execution_count": null,
   "id": "2af89270",
   "metadata": {},
   "outputs": [],
   "source": [
    "def BruteForceAttack(e,n):\n",
    "    q=0\n",
    "    p=0\n",
    "    for i in range (2, n):\n",
    "            if(n%i==0):\n",
    "                check = False\n",
    "                for j in range(2,i):\n",
    "                    if(i%j==0):\n",
    "                        check =True\n",
    "                        break\n",
    "                if(not check):\n",
    "                    p = i\n",
    "                    q = n/i\n",
    "                    break\n",
    "    phi = int( (p-1)*(q-1))\n",
    "    d= modularInverse(e,phi)\n",
    "    return d\n",
    "    \n",
    "    "
   ]
  },
  {
   "cell_type": "code",
   "execution_count": null,
   "id": "4317dd9a",
   "metadata": {},
   "outputs": [],
   "source": [
    "BruteForceAttack(5,3452027 )"
   ]
  },
  {
   "cell_type": "code",
   "execution_count": null,
   "id": "008a6f5e",
   "metadata": {},
   "outputs": [],
   "source": [
    "def ChosenCipherTextAttack(a,b):\n",
    "    a = max(a,b)\n",
    "    b= min(a,b)\n",
    "    r=[]\n",
    "    r.append(a)\n",
    "    r.append(b)\n",
    "    x=[]\n",
    "    x.append(1)\n",
    "    x.append(0)\n",
    "    y=[]\n",
    "    y.append(0)\n",
    "    y.append(1)\n",
    "    rn = a\n",
    "    while(rn !=0):\n",
    "        rn= r[-2] % r[-1]\n",
    "        qn = math.floor(r[-2]/r[-1])\n",
    "        x.append(x[-2]-qn*x[-1])\n",
    "        y.append(y[-2]-qn*y[-1])\n",
    "        r.append(rn)   \n",
    "    return y[-2]\n",
    "    "
   ]
  },
  {
   "cell_type": "code",
   "execution_count": null,
   "id": "16fcad94",
   "metadata": {},
   "outputs": [],
   "source": [
    "y=ChosenCipherTextAttack(1759,550)\n",
    "print(y)"
   ]
  },
  {
   "cell_type": "code",
   "execution_count": null,
   "id": "b3de6223",
   "metadata": {},
   "outputs": [],
   "source": [
    "decrypt(C,d,n)"
   ]
  },
  {
   "cell_type": "code",
   "execution_count": 3,
   "id": "0d1b91ea",
   "metadata": {},
   "outputs": [
    {
     "name": "stdout",
     "output_type": "stream",
     "text": [
      "HELLO, \n",
      "How are\n"
     ]
    }
   ],
   "source": [
    "# create a socket at server side\n",
    "# using TCP / IP protocol\n",
    "s = socket.socket(socket.AF_INET,\n",
    "                  socket.SOCK_STREAM)\n",
    "s.connect((socket.gethostname(),1024))\n",
    "msg = s.recv(7) \n",
    "print(msg.decode(\"utf-8\"))\n",
    "msg = s.recv(7) \n",
    "print(msg.decode(\"utf-8\"))                 "
   ]
  }
 ],
 "metadata": {
  "kernelspec": {
   "display_name": "Python 3",
   "language": "python",
   "name": "python3"
  },
  "language_info": {
   "codemirror_mode": {
    "name": "ipython",
    "version": 3
   },
   "file_extension": ".py",
   "mimetype": "text/x-python",
   "name": "python",
   "nbconvert_exporter": "python",
   "pygments_lexer": "ipython3",
   "version": "3.10.0"
  }
 },
 "nbformat": 4,
 "nbformat_minor": 5
}
