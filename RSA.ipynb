{
 "cells": [
  {
   "cell_type": "code",
   "execution_count": 1,
   "id": "16858f9d",
   "metadata": {},
   "outputs": [
    {
     "data": {
      "text/plain": [
       "134217728"
      ]
     },
     "execution_count": 1,
     "metadata": {},
     "output_type": "execute_result"
    }
   ],
   "source": [
    "import math\n",
    "import random\n",
    "import socket\n",
    "import numpy as np\n",
    "import sys\n",
    "from _thread import *\n",
    "import threading\n",
    "from utils import *\n",
    "sys.setrecursionlimit(10**7)\n",
    "threading.stack_size(2**27)"
   ]
  },
  {
   "cell_type": "code",
   "execution_count": 2,
   "id": "4317dd9a",
   "metadata": {},
   "outputs": [
    {
     "data": {
      "text/plain": [
       "2758637"
      ]
     },
     "execution_count": 2,
     "metadata": {},
     "output_type": "execute_result"
    }
   ],
   "source": [
    "BruteForceAttack(5,3452027 )"
   ]
  },
  {
   "cell_type": "code",
   "execution_count": 3,
   "id": "7e26e014",
   "metadata": {},
   "outputs": [],
   "source": [
    "print_lock = threading.Lock()\n",
    "n=-1\n",
    "e =-1"
   ]
  },
  {
   "cell_type": "code",
   "execution_count": 4,
   "id": "9877ec66",
   "metadata": {},
   "outputs": [],
   "source": [
    "n=-1\n",
    "e=-1\n",
    "def threaded(c):\n",
    "    while True:\n",
    "        global n\n",
    "        global e\n",
    "        data = None\n",
    "        if n==-1 and e==-1:\n",
    "            # print('Not n and e')\n",
    "            data = c.recv(2**30)\n",
    "            n= int(data)\n",
    "        if n!=-1  and e==-1:\n",
    "            # print('Not e')\n",
    "            data = c.recv(2**30)\n",
    "            e= int(data)\n",
    "        if n!=-1 and e!=-1:\n",
    "            print('Entered!!!!')\n",
    "            input_message = input(\"Enter message\")\n",
    "            ciper=Encrypt(prepare_message(input_message,n),e,n)\n",
    "            print(\"n\",n)\n",
    "            print(\"e\",e)\n",
    "            print(\"Cipher: \",ciper)\n",
    "            c.send(str(ciper).encode())\n",
    "          \n",
    "        # c.close()\n",
    "    return e,n\n"
   ]
  },
  {
   "cell_type": "code",
   "execution_count": 5,
   "id": "f5a64a48",
   "metadata": {},
   "outputs": [
    {
     "name": "stdout",
     "output_type": "stream",
     "text": [
      "socket binded to port 12340\n",
      "socket is listening\n",
      "Connected to : 127.0.0.1 : 61779\n",
      "Entered!!!!\n",
      "Message is larger than n. Trimming it!!\n",
      "n 1000000016000000063\n",
      "e 500000007000000025\n",
      "Ciper:  20381785865151607\n",
      "Entered!!!!\n",
      "n 1000000016000000063\n",
      "e 500000007000000025\n",
      "Ciper:  18537\n",
      "Entered!!!!\n",
      "Message is larger than n. Trimming it!!\n",
      "n 1000000016000000063\n",
      "e 500000007000000025\n",
      "Ciper:  20377769230230905\n",
      "Entered!!!!\n",
      "Message is larger than n. Trimming it!!\n",
      "n 1000000016000000063\n",
      "e 500000007000000025\n",
      "Ciper:  20583276114636651\n",
      "Entered!!!!\n"
     ]
    }
   ],
   "source": [
    "\n",
    "host = \"\"\n",
    "\t# reverse a port on your computer\n",
    "\t# in our case it is 12345 but it\n",
    "\t# can be anything\n",
    "port = 12340\n",
    "# port = 12345\n",
    "s = socket.socket(socket.AF_INET, socket.SOCK_STREAM)\n",
    "s.setsockopt(socket.SOL_SOCKET, socket.SO_SNDBUF, 2**30)  \n",
    "s.bind((host, port))\n",
    "print(\"socket binded to port\", port)\n",
    "\n",
    "\t# put the socket into listening mode\n",
    "s.listen(5)\n",
    "print(\"socket is listening\")\n",
    "\n",
    "\n",
    "\t# a forever loop until client wants to exit\n",
    "while True:\n",
    "\n",
    "\t\t# establish connection with client\n",
    "\t\tc, addr = s.accept()\n",
    "\n",
    "\t\t# lock acquired by client\n",
    "\t\tprint_lock.acquire()\n",
    "\t\tprint('Connected to :', addr[0], ':', addr[1])\n",
    "\n",
    "\t\t# Start a new thread and return its identifier\n",
    "\t\tstart_new_thread(threaded (c))\n",
    "s.close()"
   ]
  },
  {
   "cell_type": "code",
   "execution_count": null,
   "id": "389713b9",
   "metadata": {},
   "outputs": [],
   "source": []
  }
 ],
 "metadata": {
  "interpreter": {
   "hash": "88279d2366fe020547cde40dd65aa0e3aa662a6ec1f3ca12d88834876c85e1a6"
  },
  "kernelspec": {
   "display_name": "Python 3.7.6 ('base')",
   "language": "python",
   "name": "python3"
  },
  "language_info": {
   "codemirror_mode": {
    "name": "ipython",
    "version": 3
   },
   "file_extension": ".py",
   "mimetype": "text/x-python",
   "name": "python",
   "nbconvert_exporter": "python",
   "pygments_lexer": "ipython3",
   "version": "3.7.6"
  }
 },
 "nbformat": 4,
 "nbformat_minor": 5
}
