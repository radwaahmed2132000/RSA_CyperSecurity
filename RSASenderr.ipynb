{
 "cells": [
  {
   "cell_type": "code",
   "execution_count": 9,
   "metadata": {},
   "outputs": [],
   "source": [
    "import math\n",
    "import random\n",
    "import socket\n",
    "import numpy as np\n",
    "import sys\n",
    "from _thread import *\n",
    "import threading"
   ]
  },
  {
   "cell_type": "code",
   "execution_count": 10,
   "metadata": {},
   "outputs": [],
   "source": [
    "def checkvalidation(m):\n",
    "    if(m<=1):\n",
    "        return False\n",
    "    for i in range(2, int(np.sqrt(m)) + 1):\n",
    "        if (m % i == 0):\n",
    "            return False\n",
    "    return True"
   ]
  },
  {
   "cell_type": "code",
   "execution_count": 11,
   "metadata": {},
   "outputs": [],
   "source": [
    "def  readvalue():\n",
    "    p= int(input(\"Enter P\"))\n",
    "    q = int(input(\"Enter Q\"))\n",
    "    if(not checkvalidation(p)):\n",
    "        return False,p*q,(p-1)*(q-1)\n",
    "    if(not checkvalidation(q) ):\n",
    "        return False,p*q,(p-1)*(q-1)\n",
    "    return True,p*q,(p-1)*(q-1)"
   ]
  },
  {
   "cell_type": "code",
   "execution_count": 12,
   "metadata": {},
   "outputs": [],
   "source": [
    "def modularInverse(e, phi):\n",
    "    for i in range(1, phi):\n",
    "        if (((e%phi) * (i%phi)) % phi == 1):\n",
    "            return i\n",
    "    return -1"
   ]
  },
  {
   "cell_type": "code",
   "execution_count": 13,
   "metadata": {},
   "outputs": [],
   "source": [
    "def keys(n,phi):\n",
    "    e=1\n",
    "    for i in range (2, phi):\n",
    "        if(np.gcd(i,phi)==1):\n",
    "            e=i\n",
    "            break\n",
    "    d=modularInverse(e,phi)\n",
    "    return e,d,n"
   ]
  },
  {
   "cell_type": "code",
   "execution_count": 14,
   "metadata": {},
   "outputs": [],
   "source": [
    "# check, n,phi =readvalue()\n",
    "# print(check,n,phi)"
   ]
  },
  {
   "cell_type": "code",
   "execution_count": 15,
   "metadata": {},
   "outputs": [],
   "source": [
    "def Main():\n",
    "    # local host IP '127.0.0.1'\n",
    "    host = '127.0.0.1'\n",
    " \n",
    "    # Define the port on which you want to connect\n",
    "    port = 12345\n",
    " \n",
    "    s = socket.socket(socket.AF_INET,socket.SOCK_STREAM)\n",
    " \n",
    "    # connect to server on local computer\n",
    "    s.connect((host,port))\n",
    " \n",
    "    # message you send to server\n",
    "    check = False\n",
    "    while not check:\n",
    "        check, n,phi =readvalue()\n",
    "        print(check,n)\n",
    "        if not check:\n",
    "            print(\" Please enter valid p & q\")\n",
    "    e,d,n=keys(n,phi)\n",
    "    print(e,d,n)\n",
    "    print((e*d) % phi)\n",
    "    # message sent to server\n",
    "    s.send(str(n).encode())\n",
    "    s.send(str(e).encode())\n",
    "    \n",
    "    while True:\n",
    " \n",
    " \n",
    "        # message received from server\n",
    "        data = s.recv(10)\n",
    " \n",
    "        # print the received message\n",
    "        # here it would be a reverse of sent message\n",
    "        print('Received from the server :',str(data.decode('ascii')))\n",
    " \n",
    "        # ask the client whether he wants to continue\n",
    "        # ans = input('\\nDo you want to continue(y/n) :')\n",
    "        # if ans == 'y':\n",
    "        #     continue\n",
    "        # else:\n",
    "        #     break\n",
    "    # close the connection\n",
    "    s.close()\n",
    " "
   ]
  },
  {
   "cell_type": "code",
   "execution_count": 16,
   "metadata": {},
   "outputs": [
    {
     "name": "stdout",
     "output_type": "stream",
     "text": [
      "False 50\n",
      " Please enter valid p & q\n",
      "False 1717972\n",
      " Please enter valid p & q\n",
      "True 2331713\n",
      "7 1330663 2331713\n",
      "1\n",
      "Received from the server : 1029042\n",
      "Received from the server : 1029042\n",
      "Received from the server : 902010\n",
      "Received from the server : 2145762\n"
     ]
    }
   ],
   "source": [
    "Main()"
   ]
  }
 ],
 "metadata": {
  "interpreter": {
   "hash": "369f2c481f4da34e4445cda3fffd2e751bd1c4d706f27375911949ba6bb62e1c"
  },
  "kernelspec": {
   "display_name": "Python 3.10.0 64-bit",
   "language": "python",
   "name": "python3"
  },
  "language_info": {
   "codemirror_mode": {
    "name": "ipython",
    "version": 3
   },
   "file_extension": ".py",
   "mimetype": "text/x-python",
   "name": "python",
   "nbconvert_exporter": "python",
   "pygments_lexer": "ipython3",
   "version": "3.10.0"
  },
  "orig_nbformat": 4
 },
 "nbformat": 4,
 "nbformat_minor": 2
}
