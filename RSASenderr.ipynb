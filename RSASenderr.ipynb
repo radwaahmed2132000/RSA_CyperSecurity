{
 "cells": [
  {
   "cell_type": "code",
   "execution_count": null,
   "metadata": {},
   "outputs": [],
   "source": [
    "import math\n",
    "import random\n",
    "import socket\n",
    "import numpy as np\n",
    "import sys\n",
    "from _thread import *\n",
    "import threading\n",
    "from utils import *\n",
    "sys.setrecursionlimit(10**7)\n",
    "threading.stack_size(2**27)"
   ]
  },
  {
   "cell_type": "code",
   "execution_count": null,
   "metadata": {},
   "outputs": [],
   "source": [
    "def Main():\n",
    "    # local host IP '127.0.0.1'\n",
    "    host = '127.0.0.1'\n",
    " \n",
    "    # Define the port on which you want to connect\n",
    "    port = 12340\n",
    "    # port = 12345\n",
    " \n",
    "    s = socket.socket(socket.AF_INET,socket.SOCK_STREAM)\n",
    " \n",
    "    # connect to server on local computer\n",
    "    s.connect((host,port))\n",
    " \n",
    "    # message you send to server\n",
    "    check = False\n",
    "    while not check:\n",
    "        check, n,phi,p,q =readvalue()\n",
    "        print(check,n)\n",
    "        if not check:\n",
    "            print(\" Please enter valid p & q\")\n",
    "    e,d,n=keys(n,phi)\n",
    "    print(e,d,n)\n",
    "    print((e*d) % phi)\n",
    "    # message sent to server\n",
    "    s.send(str(n).encode())\n",
    "    s.send(str(e).encode())\n",
    "    \n",
    "    while True:\n",
    " \n",
    " \n",
    "        # message received from server\n",
    "        data = s.recv(2**30)\n",
    "        print('cIPHER = ', data)\n",
    "        data = Decrypt(int(data), p, q, e)\n",
    "        # print the received message\n",
    "        # here it would be a reverse of sent message\n",
    "        print('Received from the server :', data)\n",
    "        # print('Received from the server :',str(data.decode('ascii')))\n",
    " \n",
    "        # ask the client whether he wants to continue\n",
    "        # ans = input('\\nDo you want to continue(y/n) :')\n",
    "        # if ans == 'y':\n",
    "        #     continue\n",
    "        # else:\n",
    "        #     break\n",
    "    # close the connection\n",
    "    s.close()\n",
    " "
   ]
  },
  {
   "cell_type": "code",
   "execution_count": null,
   "metadata": {},
   "outputs": [],
   "source": [
    "Main()"
   ]
  }
 ],
 "metadata": {
  "interpreter": {
   "hash": "88279d2366fe020547cde40dd65aa0e3aa662a6ec1f3ca12d88834876c85e1a6"
  },
  "kernelspec": {
   "display_name": "Python 3.7.6 ('base')",
   "language": "python",
   "name": "python3"
  },
  "language_info": {
   "codemirror_mode": {
    "name": "ipython",
    "version": 3
   },
   "file_extension": ".py",
   "mimetype": "text/x-python",
   "name": "python",
   "nbconvert_exporter": "python",
   "pygments_lexer": "ipython3",
   "version": "3.7.6"
  },
  "orig_nbformat": 4
 },
 "nbformat": 4,
 "nbformat_minor": 2
}
