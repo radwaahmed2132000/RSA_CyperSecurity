{
 "cells": [
  {
   "cell_type": "code",
   "execution_count": 7,
   "metadata": {},
   "outputs": [
    {
     "data": {
      "text/plain": [
       "134217728"
      ]
     },
     "execution_count": 7,
     "metadata": {},
     "output_type": "execute_result"
    }
   ],
   "source": [
    "import math\n",
    "import random\n",
    "import socket\n",
    "import numpy as np\n",
    "import sys\n",
    "from _thread import *\n",
    "import threading\n",
    "from utils import *\n",
    "sys.setrecursionlimit(10**7)\n",
    "threading.stack_size(2**27)"
   ]
  },
  {
   "cell_type": "code",
   "execution_count": 8,
   "metadata": {},
   "outputs": [],
   "source": [
    "def Main():\n",
    "    # local host IP '127.0.0.1'\n",
    "    host = '127.0.0.1'\n",
    " \n",
    "    # Define the port on which you want to connect\n",
    "    port = 12340\n",
    "    # port = 12345\n",
    " \n",
    "    s = socket.socket(socket.AF_INET,socket.SOCK_STREAM)\n",
    "    s.setsockopt(socket.SOL_SOCKET, socket.SO_SNDBUF, 2**30)  \n",
    " \n",
    "    # connect to server on local computer\n",
    "    s.connect((host,port))\n",
    " \n",
    "    # message you send to server\n",
    "    check = False\n",
    "    while not check:\n",
    "        check, n,phi,p,q =readvalue()\n",
    "        print(check,n)\n",
    "        if not check:\n",
    "            print(\" Please enter valid p & q\")\n",
    "    # e = 23917\n",
    "    e,d,n=keys(n,phi)\n",
    "    print(e,d,n)\n",
    "    print((e*d) % phi)\n",
    "    # message sent to server\n",
    "    s.send(str(n).encode())\n",
    "    s.send(str(e).encode())\n",
    "    \n",
    "    while True:\n",
    " \n",
    " \n",
    "        # message received from server\n",
    "        data = s.recv(2**30)\n",
    "        print('Cipher Received = ', data)\n",
    "        data = Decrypt(int(data), p, q, d)\n",
    "        # print the received message\n",
    "        # here it would be a reverse of sent message\n",
    "        print('Received from the server :', data)\n",
    "        # print('Received from the server :',str(data.decode('ascii')))\n",
    " \n",
    "        # ask the client whether he wants to continue\n",
    "        # ans = input('\\nDo you want to continue(y/n) :')\n",
    "        # if ans == 'y':\n",
    "        #     continue\n",
    "        # else:\n",
    "        #     break\n",
    "    # close the connection\n",
    "    s.close()\n",
    " "
   ]
  },
  {
   "cell_type": "code",
   "execution_count": 9,
   "metadata": {},
   "outputs": [
    {
     "name": "stdout",
     "output_type": "stream",
     "text": [
      "True 1000000016000000063\n",
      "5 600000008400000029 1000000016000000063\n",
      "1\n",
      "Cipher Received =  b'270870318663650788'\n",
      "Received from the server : i am\n",
      "Cipher Received =  b'774134857531336117'\n",
      "Received from the server : radw\n",
      "Cipher Received =  b'905766129660458606'\n",
      "Received from the server : radwa\n"
     ]
    }
   ],
   "source": [
    "Main()"
   ]
  }
 ],
 "metadata": {
  "interpreter": {
   "hash": "369f2c481f4da34e4445cda3fffd2e751bd1c4d706f27375911949ba6bb62e1c"
  },
  "kernelspec": {
   "display_name": "Python 3.10.0 64-bit",
   "language": "python",
   "name": "python3"
  },
  "language_info": {
   "codemirror_mode": {
    "name": "ipython",
    "version": 3
   },
   "file_extension": ".py",
   "mimetype": "text/x-python",
   "name": "python",
   "nbconvert_exporter": "python",
   "pygments_lexer": "ipython3",
   "version": "3.10.0"
  },
  "orig_nbformat": 4
 },
 "nbformat": 4,
 "nbformat_minor": 2
}
