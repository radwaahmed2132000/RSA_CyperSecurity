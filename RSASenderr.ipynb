{
 "cells": [
  {
   "cell_type": "code",
   "execution_count": 1,
   "metadata": {},
   "outputs": [
    {
     "data": {
      "text/plain": [
       "134217728"
      ]
     },
     "execution_count": 1,
     "metadata": {},
     "output_type": "execute_result"
    }
   ],
   "source": [
    "import math\n",
    "import random\n",
    "import socket\n",
    "import numpy as np\n",
    "import sys\n",
    "from _thread import *\n",
    "import threading\n",
    "from utils import *\n",
    "sys.setrecursionlimit(10**7)\n",
    "threading.stack_size(2**27)"
   ]
  },
  {
   "cell_type": "code",
   "execution_count": 2,
   "metadata": {},
   "outputs": [],
   "source": [
    "def Main():\n",
    "    # local host IP '127.0.0.1'\n",
    "    host = '127.0.0.1'\n",
    " \n",
    "    # Define the port on which you want to connect\n",
    "    port = 12340\n",
    "    # port = 12345\n",
    " \n",
    "    s = socket.socket(socket.AF_INET,socket.SOCK_STREAM)\n",
    "    s.setsockopt(socket.SOL_SOCKET, socket.SO_SNDBUF, 2**30)  \n",
    " \n",
    "    # connect to server on local computer\n",
    "    s.connect((host,port))\n",
    " \n",
    "    # message you send to server\n",
    "    check = False\n",
    "    while not check:\n",
    "        check, n,phi,p,q =readvalue()\n",
    "        print(check,n)\n",
    "        if not check:\n",
    "            print(\" Please enter valid p & q\")\n",
    "    # e = 23917\n",
    "    e,d,n=keys(n,phi)\n",
    "    print(e,d,n)\n",
    "    print((e*d) % phi)\n",
    "    # message sent to server\n",
    "    s.send(str(n).encode())\n",
    "    s.send(str(e).encode())\n",
    "    \n",
    "    while True:\n",
    " \n",
    " \n",
    "        # message received from server\n",
    "        data = s.recv(2**30)\n",
    "        print('Cipher Received = ', data)\n",
    "        data = Decrypt(int(data), p, q, d)\n",
    "        # print the received message\n",
    "        # here it would be a reverse of sent message\n",
    "        print('Received from the server :', data)\n",
    "        # print('Received from the server :',str(data.decode('ascii')))\n",
    " \n",
    "        # ask the client whether he wants to continue\n",
    "        # ans = input('\\nDo you want to continue(y/n) :')\n",
    "        # if ans == 'y':\n",
    "        #     continue\n",
    "        # else:\n",
    "        #     break\n",
    "    # close the connection\n",
    "    s.close()\n",
    " "
   ]
  },
  {
   "cell_type": "code",
   "execution_count": 3,
   "metadata": {},
   "outputs": [
    {
     "name": "stdout",
     "output_type": "stream",
     "text": [
      "True 22291846172619859445381409012451\n",
      "3 14861230781746550930274822776603 22291846172619859445381409012451\n",
      "1\n",
      "Cipher Received =  b'814795322221168286111289426488'\n",
      "Received from the server : Radwa\n",
      "Cipher Received =  b'18695641291236456754522338589499'\n",
      "Received from the server : Radwa I\n",
      "Cipher Received =  b'8669344783875140817754352189705'\n",
      "Received from the server : Radwa Iten\n",
      "Cipher Received =  b'4252022156578820228159942267337'\n",
      "Received from the server : How are you\n",
      "Cipher Received =  b'11372296244805061455528057689222'\n",
      "Received from the server : How are you?\n",
      "Cipher Received =  b'19019007168546886249361613062405'\n",
      "Received from the server : 1234567891012\n"
     ]
    }
   ],
   "source": [
    "Main()"
   ]
  }
 ],
 "metadata": {
  "interpreter": {
   "hash": "369f2c481f4da34e4445cda3fffd2e751bd1c4d706f27375911949ba6bb62e1c"
  },
  "kernelspec": {
   "display_name": "Python 3.10.0 64-bit",
   "language": "python",
   "name": "python3"
  },
  "language_info": {
   "codemirror_mode": {
    "name": "ipython",
    "version": 3
   },
   "file_extension": ".py",
   "mimetype": "text/x-python",
   "name": "python",
   "nbconvert_exporter": "python",
   "pygments_lexer": "ipython3",
   "version": "3.10.0"
  },
  "orig_nbformat": 4
 },
 "nbformat": 4,
 "nbformat_minor": 2
}
