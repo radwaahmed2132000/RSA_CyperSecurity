{
 "cells": [
  {
   "cell_type": "code",
   "execution_count": null,
   "metadata": {},
   "outputs": [],
   "source": [
    "import matplotlib.pyplot as plt\n",
    "from matplotlib.ticker import FormatStrFormatter\n",
    "import csv"
   ]
  },
  {
   "cell_type": "code",
   "execution_count": null,
   "metadata": {},
   "outputs": [],
   "source": [
    "no_of_digits = []\n",
    "encryption_execution_times = []\n",
    "decryption_execution_times = []\n",
    "file = open('graph_data.csv')\n",
    "csvreader = csv.reader(file)\n",
    "# rows = []\n",
    "for row in csvreader:\n",
    "    # rows.append(row)\n",
    "    no_of_digits.append(int(row[0]))\n",
    "    encryption_execution_times.append(int(float(row[1])))\n",
    "    decryption_execution_times.append(int(float(row[2])))\n",
    "\n",
    "file.close()\n",
    "print(encryption_execution_times)"
   ]
  },
  {
   "cell_type": "code",
   "execution_count": null,
   "metadata": {},
   "outputs": [],
   "source": [
    "# Generate Graphs\n",
    "fig, ax = plt.subplots(nrows=1,ncols = 1)\n",
    "ax.plot(no_of_digits,encryption_execution_times,color='r',marker='*',linestyle='solid',label='Encryption Time')\n",
    "ax.plot(no_of_digits,decryption_execution_times,color='g',marker='.',linestyle='solid',label='Decryption Time')\n",
    "\n",
    "# Provide the title for the plot\n",
    "plt.title('RSA: Key Length(bits) vs. Execution Time(ms)')\n",
    "\n",
    "# Give x axis label for the plot\n",
    "plt.xlabel('Key Length(bits)')\n",
    "\n",
    "# Give y axis label for the plot\n",
    "plt.ylabel('Execution Time (ms)') \n",
    "\n",
    "# Display the plot\n",
    "plt.legend()\n",
    "plt.show()"
   ]
  },
  {
   "cell_type": "code",
   "execution_count": null,
   "metadata": {},
   "outputs": [],
   "source": [
    "ns = []\n",
    "execution_times = []\n",
    "no_of_bits = []\n",
    "file2 = open('brute_force_data.csv')\n",
    "csvreader2 = csv.reader(file2)\n",
    "\n",
    "for row in csvreader2:\n",
    "    ns.append(int(row[0]))\n",
    "    execution_times.append(int(float(row[1])))\n",
    "    no_of_bits.append(int(row[2]))\n",
    "\n",
    "file2.close()\n",
    "print(execution_times)"
   ]
  },
  {
   "cell_type": "code",
   "execution_count": null,
   "metadata": {},
   "outputs": [],
   "source": [
    "# Generate Graphs\n",
    "fig, ax = plt.subplots(nrows=1,ncols = 1)\n",
    "ax.plot(ns,execution_times,color='b',marker='*',linestyle='solid',label='Brute Force Attack Time')\n",
    "\n",
    "# Provide the title for the plot\n",
    "plt.title('RSA: N vs. Attack Execution Time(sec)')\n",
    "\n",
    "# Give x axis label for the plot\n",
    "plt.xlabel('N (Key)')\n",
    "\n",
    "# Give y axis label for the plot\n",
    "plt.ylabel('Brute Force Attack Execution Time (sec)') \n",
    "\n",
    "# Display the plot\n",
    "plt.legend()\n",
    "plt.show()"
   ]
  },
  {
   "cell_type": "code",
   "execution_count": null,
   "metadata": {},
   "outputs": [],
   "source": []
  }
 ],
 "metadata": {
  "interpreter": {
   "hash": "88279d2366fe020547cde40dd65aa0e3aa662a6ec1f3ca12d88834876c85e1a6"
  },
  "kernelspec": {
   "display_name": "Python 3.7.6 ('base')",
   "language": "python",
   "name": "python3"
  },
  "language_info": {
   "codemirror_mode": {
    "name": "ipython",
    "version": 3
   },
   "file_extension": ".py",
   "mimetype": "text/x-python",
   "name": "python",
   "nbconvert_exporter": "python",
   "pygments_lexer": "ipython3",
   "version": "3.7.6"
  },
  "orig_nbformat": 4
 },
 "nbformat": 4,
 "nbformat_minor": 2
}
